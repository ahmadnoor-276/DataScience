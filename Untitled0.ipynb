{
  "nbformat": 4,
  "nbformat_minor": 0,
  "metadata": {
    "colab": {
      "provenance": [],
      "authorship_tag": "ABX9TyODQQzTuP4chcUkOf7q+kga",
      "include_colab_link": true
    },
    "kernelspec": {
      "name": "python3",
      "display_name": "Python 3"
    },
    "language_info": {
      "name": "python"
    }
  },
  "cells": [
    {
      "cell_type": "markdown",
      "metadata": {
        "id": "view-in-github",
        "colab_type": "text"
      },
      "source": [
        "<a href=\"https://colab.research.google.com/github/ahmadnoor-276/DataScience/blob/main/Untitled0.ipynb\" target=\"_parent\"><img src=\"https://colab.research.google.com/assets/colab-badge.svg\" alt=\"Open In Colab\"/></a>"
      ]
    },
    {
      "cell_type": "code",
      "execution_count": 2,
      "metadata": {
        "id": "5JSIvRj7v7cV",
        "colab": {
          "base_uri": "https://localhost:8080/"
        },
        "outputId": "59a9c8f5-41ca-4d80-ce52-085f5616009f"
      },
      "outputs": [
        {
          "output_type": "stream",
          "name": "stdout",
          "text": [
            "   col1  col2  col3\n",
            "0     1     6    11\n",
            "1     2     7    12\n",
            "2     3     8    13\n",
            "3     4     9    14\n",
            "4     5    10    15\n",
            "\n",
            "\n",
            "Number of rows:  5\n",
            "Number of columns:  3\n",
            "\n",
            "\n",
            "Minimum number in Column3:  11\n",
            "Maximum number in Column3:  15\n",
            "\n",
            "\n",
            "Mean of Column3 is:  13.0\n",
            "Mean of whole DataFrame is:  8.0\n"
          ]
        }
      ],
      "source": [
        "import pandas as pd\n",
        "import numpy as np\n",
        "\n",
        "#Making a strucured data using DataFrame function of Pandas\n",
        "d = {'col1' : [1,2,3,4,5],\n",
        "       'col2' : [6,7,8,9,10],\n",
        "       'col3' : [11,12,13,14,15]\n",
        "       }\n",
        "\n",
        "df = pd.DataFrame(data = d)\n",
        "\n",
        "#Printing the Structured\n",
        "print(df)\n",
        "\n",
        "#Calculating the number of row and columns of the Data\n",
        "no_of_rows = df.shape[0]\n",
        "no_of_cols = df.shape[1]\n",
        "\n",
        "#Printing the rows and columns\n",
        "print(\"\\n\")\n",
        "print(\"Number of rows: \", no_of_rows)\n",
        "print(\"Number of columns: \", no_of_cols)\n",
        "\n",
        "#Calculating the Min and Max in Column3\n",
        "min_number = min(d['col3'])\n",
        "max_number = max(d['col3'])\n",
        "\n",
        "#Printing the min and max number\n",
        "print(\"\\n\")\n",
        "print(\"Minimum number in Column3: \", min_number)\n",
        "print(\"Maximum number in Column3: \", max_number)\n",
        "\n",
        "#Calculating the mean value\n",
        "col3_mean = np.mean(d['col3'])\n",
        "whole_mean = df.mean().mean()\n",
        "\n",
        "#Printing the mean value\n",
        "print(\"\\n\")\n",
        "print(\"Mean of Column3 is: \", col3_mean)\n",
        "print(\"Mean of whole DataFrame is: \", whole_mean)\n"
      ]
    },
    {
      "cell_type": "code",
      "source": [
        "#Reading and Cleaning Data from CSV file\n",
        "\n",
        "#Giving the path of uploaded file and header=0 means that columns name are on 1st row\n",
        "data_set = pd.read_csv(\"/content/data.csv.txt\", header = 0, sep = \",\")\n",
        "\n",
        "print(data_set)\n"
      ],
      "metadata": {
        "colab": {
          "base_uri": "https://localhost:8080/"
        },
        "id": "qUdhd4Na5YwG",
        "outputId": "b1f4097f-ea65-4a3a-e6f6-f47eedc01208"
      },
      "execution_count": 5,
      "outputs": [
        {
          "output_type": "stream",
          "name": "stdout",
          "text": [
            "    Duration Average_Pulse Max_Pulse  Calorie_Burnage  Hours_Work  Hours_Sleep\n",
            "0       30.0            80       120            240.0        10.0          7.0\n",
            "1       45.0            85       120            250.0        10.0          7.0\n",
            "2       45.0            90       130            260.0         8.0          7.0\n",
            "3       60.0            95       130            270.0         8.0          7.0\n",
            "4       60.0           100       140            280.0         0.0          7.0\n",
            "5        NaN           NaN       NaN              NaN         NaN          NaN\n",
            "6       60.0           105       140            290.0         7.0          8.0\n",
            "7       60.0           110       145            300.0         7.0          8.0\n",
            "8       45.0           NaN        AF              NaN         8.0          8.0\n",
            "9       45.0           115       145            310.0         8.0          8.0\n",
            "10      60.0           120       150            320.0         0.0          8.0\n",
            "11      60.0         9 000       130              NaN         NaN          8.0\n",
            "12      45.0           125       150            330.0         8.0          8.0\n"
          ]
        }
      ]
    },
    {
      "cell_type": "code",
      "source": [
        "#Cleaning of Data dropingn NULL larger values\n",
        "data_set.dropna(axis = 0, inplace = True)\n",
        "\n",
        "print(data_set)\n",
        "\n",
        "#For the information od datatype\n",
        "print(\"\\n\")\n",
        "print(data_set.info())\n"
      ],
      "metadata": {
        "colab": {
          "base_uri": "https://localhost:8080/"
        },
        "id": "8X2oxkMv1HfX",
        "outputId": "403d7fcb-94ce-46e0-bc1a-d5ec2da1e794"
      },
      "execution_count": 8,
      "outputs": [
        {
          "output_type": "stream",
          "name": "stdout",
          "text": [
            "    Duration Average_Pulse Max_Pulse  Calorie_Burnage  Hours_Work  Hours_Sleep\n",
            "0       30.0            80       120            240.0        10.0          7.0\n",
            "1       45.0            85       120            250.0        10.0          7.0\n",
            "2       45.0            90       130            260.0         8.0          7.0\n",
            "3       60.0            95       130            270.0         8.0          7.0\n",
            "4       60.0           100       140            280.0         0.0          7.0\n",
            "6       60.0           105       140            290.0         7.0          8.0\n",
            "7       60.0           110       145            300.0         7.0          8.0\n",
            "9       45.0           115       145            310.0         8.0          8.0\n",
            "10      60.0           120       150            320.0         0.0          8.0\n",
            "12      45.0           125       150            330.0         8.0          8.0\n",
            "\n",
            "\n",
            "<class 'pandas.core.frame.DataFrame'>\n",
            "Int64Index: 10 entries, 0 to 12\n",
            "Data columns (total 6 columns):\n",
            " #   Column           Non-Null Count  Dtype  \n",
            "---  ------           --------------  -----  \n",
            " 0   Duration         10 non-null     float64\n",
            " 1   Average_Pulse    10 non-null     object \n",
            " 2   Max_Pulse        10 non-null     object \n",
            " 3   Calorie_Burnage  10 non-null     float64\n",
            " 4   Hours_Work       10 non-null     float64\n",
            " 5   Hours_Sleep      10 non-null     float64\n",
            "dtypes: float64(4), object(2)\n",
            "memory usage: 560.0+ bytes\n",
            "None\n"
          ]
        }
      ]
    },
    {
      "cell_type": "code",
      "source": [
        "#Convert the object type to float for data manipulation\n",
        "data_set['Average_Pulse'] = data_set['Average_Pulse'].astype(float)\n",
        "data_set['Max_Pulse'] = data_set['Max_Pulse'].astype(float)\n",
        "\n",
        "print(data_set)"
      ],
      "metadata": {
        "colab": {
          "base_uri": "https://localhost:8080/"
        },
        "id": "wYFEjpbR15Ma",
        "outputId": "37879c54-6717-41eb-f66d-0e49103c41fb"
      },
      "execution_count": 9,
      "outputs": [
        {
          "output_type": "stream",
          "name": "stdout",
          "text": [
            "    Duration  Average_Pulse  Max_Pulse  Calorie_Burnage  Hours_Work  \\\n",
            "0       30.0           80.0      120.0            240.0        10.0   \n",
            "1       45.0           85.0      120.0            250.0        10.0   \n",
            "2       45.0           90.0      130.0            260.0         8.0   \n",
            "3       60.0           95.0      130.0            270.0         8.0   \n",
            "4       60.0          100.0      140.0            280.0         0.0   \n",
            "6       60.0          105.0      140.0            290.0         7.0   \n",
            "7       60.0          110.0      145.0            300.0         7.0   \n",
            "9       45.0          115.0      145.0            310.0         8.0   \n",
            "10      60.0          120.0      150.0            320.0         0.0   \n",
            "12      45.0          125.0      150.0            330.0         8.0   \n",
            "\n",
            "    Hours_Sleep  \n",
            "0           7.0  \n",
            "1           7.0  \n",
            "2           7.0  \n",
            "3           7.0  \n",
            "4           7.0  \n",
            "6           8.0  \n",
            "7           8.0  \n",
            "9           8.0  \n",
            "10          8.0  \n",
            "12          8.0  \n"
          ]
        }
      ]
    },
    {
      "cell_type": "code",
      "source": [
        "#Data Anaylsis\n",
        "print(data_set.describe())"
      ],
      "metadata": {
        "colab": {
          "base_uri": "https://localhost:8080/"
        },
        "id": "h-875qIE2Y7-",
        "outputId": "138921e5-6033-4ad5-b4d7-879cc766f1c0"
      },
      "execution_count": 10,
      "outputs": [
        {
          "output_type": "stream",
          "name": "stdout",
          "text": [
            "        Duration  Average_Pulse   Max_Pulse  Calorie_Burnage  Hours_Work  \\\n",
            "count  10.000000      10.000000   10.000000        10.000000   10.000000   \n",
            "mean   51.000000     102.500000  137.000000       285.000000    6.600000   \n",
            "std    10.488088      15.138252   11.352924        30.276504    3.627059   \n",
            "min    30.000000      80.000000  120.000000       240.000000    0.000000   \n",
            "25%    45.000000      91.250000  130.000000       262.500000    7.000000   \n",
            "50%    52.500000     102.500000  140.000000       285.000000    8.000000   \n",
            "75%    60.000000     113.750000  145.000000       307.500000    8.000000   \n",
            "max    60.000000     125.000000  150.000000       330.000000   10.000000   \n",
            "\n",
            "       Hours_Sleep  \n",
            "count    10.000000  \n",
            "mean      7.500000  \n",
            "std       0.527046  \n",
            "min       7.000000  \n",
            "25%       7.000000  \n",
            "50%       7.500000  \n",
            "75%       8.000000  \n",
            "max       8.000000  \n"
          ]
        }
      ]
    }
  ]
}